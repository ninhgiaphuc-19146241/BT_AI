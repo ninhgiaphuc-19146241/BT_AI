{
  "nbformat": 4,
  "nbformat_minor": 0,
  "metadata": {
    "colab": {
      "name": "ANN-Mnist-19146241.ipynb",
      "provenance": [],
      "collapsed_sections": []
    },
    "kernelspec": {
      "name": "python3",
      "display_name": "Python 3"
    },
    "language_info": {
      "name": "python"
    }
  },
  "cells": [
    {
      "cell_type": "code",
      "execution_count": null,
      "metadata": {
        "id": "CK8HwE5LoLnI"
      },
      "outputs": [],
      "source": [
        "import matplotlib.pyplot as plt\n",
        "from keras.datasets import mnist\n",
        "from tensorflow.keras.utils import to_categorical\n",
        "from keras.models import Sequential\n",
        "from keras.layers import Dense,Activation,Dropout\n",
        "from tensorflow.keras.optimizers import RMSprop"
      ]
    },
    {
      "cell_type": "code",
      "source": [
        "(X_train, y_train), (X_test, y_test) = mnist.load_data()"
      ],
      "metadata": {
        "colab": {
          "base_uri": "https://localhost:8080/"
        },
        "id": "SrC14r7loW6r",
        "outputId": "67431b98-e688-4346-d3d3-f5bde4449e58"
      },
      "execution_count": null,
      "outputs": [
        {
          "output_type": "stream",
          "name": "stdout",
          "text": [
            "Downloading data from https://storage.googleapis.com/tensorflow/tf-keras-datasets/mnist.npz\n",
            "11493376/11490434 [==============================] - 0s 0us/step\n",
            "11501568/11490434 [==============================] - 0s 0us/step\n"
          ]
        }
      ]
    },
    {
      "cell_type": "code",
      "source": [
        "import matplotlib.pyplot as plt\n",
        "for i in range(9):\n",
        "  plt.subplot(330 + i + 1) #330 là 3 hàng 3 cột\n",
        "  plt.imshow(X_train[i])\n",
        "plt.show()\n",
        "# Hình màu từ 0 - 255"
      ],
      "metadata": {
        "colab": {
          "base_uri": "https://localhost:8080/",
          "height": 268
        },
        "id": "afDu63Hqodor",
        "outputId": "6992cb8a-0b93-4e71-9cfb-cf3e9cd6cdba"
      },
      "execution_count": null,
      "outputs": [
        {
          "output_type": "display_data",
          "data": {
            "text/plain": [
              "<Figure size 432x288 with 9 Axes>"
            ],
            "image/png": "[encoded data removed]"
          },
          "metadata": {
            "needs_background": "light"
          }
        }
      ]
    },
    {
      "cell_type": "code",
      "source": [
        "X_train =X_train.reshape(60000,784)\n",
        "X_test = X_test.reshape(10000,784)"
      ],
      "metadata": {
        "id": "2zPMUJUpofUb"
      },
      "execution_count": null,
      "outputs": []
    },
    {
      "cell_type": "code",
      "source": [
        "X_train = X_train.astype('float32')\n",
        "X_test = X_test.astype('float32')"
      ],
      "metadata": {
        "id": "2xIPw-ijohkz"
      },
      "execution_count": null,
      "outputs": []
    },
    {
      "cell_type": "code",
      "source": [
        "X_train/=255\n",
        "X_test/=255"
      ],
      "metadata": {
        "id": "WJ0QlcblojXL"
      },
      "execution_count": null,
      "outputs": []
    },
    {
      "cell_type": "code",
      "source": [
        "y_train=to_categorical(y_train,10)\n",
        "y_test=to_categorical(y_test,10)"
      ],
      "metadata": {
        "id": "yRjPFS69ok1e"
      },
      "execution_count": null,
      "outputs": []
    },
    {
      "cell_type": "code",
      "source": [
        "model = Sequential()\n",
        "model.add(Dense(512,activation='relu',input_shape=(784,)))\n",
        "model.add(Dropout(0.2))\n",
        "model.add(Dense(512,activation='relu'))\n",
        "model.add(Dropout(0.1))\n",
        "model.add(Dense(10,activation=\"softmax\"))\n",
        "model.summary()"
      ],
      "metadata": {
        "colab": {
          "base_uri": "https://localhost:8080/"
        },
        "id": "mGxDm4NyombK",
        "outputId": "8b53b8a9-0f35-429d-93a5-15a7aad659cc"
      },
      "execution_count": null,
      "outputs": [
        {
          "output_type": "stream",
          "name": "stdout",
          "text": [
            "Model: \"sequential\"\n",
            "_________________________________________________________________\n",
            " Layer (type)                Output Shape              Param #   \n",
            "=================================================================\n",
            " dense (Dense)               (None, 512)               401920    \n",
            "                                                                 \n",
            " dropout (Dropout)           (None, 512)               0         \n",
            "                                                                 \n",
            " dense_1 (Dense)             (None, 512)               262656    \n",
            "                                                                 \n",
            " dropout_1 (Dropout)         (None, 512)               0         \n",
            "                                                                 \n",
            " dense_2 (Dense)             (None, 10)                5130      \n",
            "                                                                 \n",
            "=================================================================\n",
            "Total params: 669,706\n",
            "Trainable params: 669,706\n",
            "Non-trainable params: 0\n",
            "_________________________________________________________________\n"
          ]
        }
      ]
    },
    {
      "cell_type": "code",
      "source": [
        "model.compile(loss='categorical_crossentropy',optimizer=RMSprop(),metrics=['accuracy'])\n",
        "history = model.fit(X_train, y_train, batch_size=128,epochs =20, verbose=1,validation_data=(X_test,y_test))"
      ],
      "metadata": {
        "colab": {
          "base_uri": "https://localhost:8080/"
        },
        "id": "1Vnc6iX5ooRJ",
        "outputId": "6cbb682d-cd2b-4bb2-b139-8610e737891f"
      },
      "execution_count": null,
      "outputs": [
        {
          "output_type": "stream",
          "name": "stdout",
          "text": [
            "Epoch 1/20\n",
            "469/469 [==============================] - 10s 20ms/step - loss: 0.2430 - accuracy: 0.9235 - val_loss: 0.1031 - val_accuracy: 0.9675\n",
            "Epoch 2/20\n",
            "469/469 [==============================] - 9s 19ms/step - loss: 0.1013 - accuracy: 0.9687 - val_loss: 0.0881 - val_accuracy: 0.9742\n",
            "Epoch 3/20\n",
            "469/469 [==============================] - 9s 19ms/step - loss: 0.0725 - accuracy: 0.9780 - val_loss: 0.0774 - val_accuracy: 0.9802\n",
            "Epoch 4/20\n",
            "469/469 [==============================] - 9s 19ms/step - loss: 0.0591 - accuracy: 0.9822 - val_loss: 0.0799 - val_accuracy: 0.9765\n",
            "Epoch 5/20\n",
            "469/469 [==============================] - 9s 19ms/step - loss: 0.0486 - accuracy: 0.9852 - val_loss: 0.0897 - val_accuracy: 0.9770\n",
            "Epoch 6/20\n",
            "469/469 [==============================] - 9s 19ms/step - loss: 0.0427 - accuracy: 0.9871 - val_loss: 0.0710 - val_accuracy: 0.9831\n",
            "Epoch 7/20\n",
            "469/469 [==============================] - 9s 19ms/step - loss: 0.0355 - accuracy: 0.9891 - val_loss: 0.0750 - val_accuracy: 0.9804\n",
            "Epoch 8/20\n",
            "469/469 [==============================] - 9s 19ms/step - loss: 0.0321 - accuracy: 0.9902 - val_loss: 0.0728 - val_accuracy: 0.9842\n",
            "Epoch 9/20\n",
            "469/469 [==============================] - 9s 19ms/step - loss: 0.0294 - accuracy: 0.9913 - val_loss: 0.0858 - val_accuracy: 0.9817\n",
            "Epoch 10/20\n",
            "469/469 [==============================] - 9s 19ms/step - loss: 0.0271 - accuracy: 0.9916 - val_loss: 0.0836 - val_accuracy: 0.9831\n",
            "Epoch 11/20\n",
            "469/469 [==============================] - 9s 20ms/step - loss: 0.0241 - accuracy: 0.9927 - val_loss: 0.0849 - val_accuracy: 0.9828\n",
            "Epoch 12/20\n",
            "469/469 [==============================] - 9s 19ms/step - loss: 0.0229 - accuracy: 0.9934 - val_loss: 0.0995 - val_accuracy: 0.9820\n",
            "Epoch 13/20\n",
            "469/469 [==============================] - 9s 19ms/step - loss: 0.0244 - accuracy: 0.9929 - val_loss: 0.0986 - val_accuracy: 0.9834\n",
            "Epoch 14/20\n",
            "469/469 [==============================] - 9s 20ms/step - loss: 0.0229 - accuracy: 0.9936 - val_loss: 0.0892 - val_accuracy: 0.9844\n",
            "Epoch 15/20\n",
            "469/469 [==============================] - 9s 19ms/step - loss: 0.0193 - accuracy: 0.9944 - val_loss: 0.1073 - val_accuracy: 0.9810\n",
            "Epoch 16/20\n",
            "469/469 [==============================] - 9s 19ms/step - loss: 0.0177 - accuracy: 0.9952 - val_loss: 0.1031 - val_accuracy: 0.9837\n",
            "Epoch 17/20\n",
            "469/469 [==============================] - 9s 19ms/step - loss: 0.0179 - accuracy: 0.9948 - val_loss: 0.1310 - val_accuracy: 0.9824\n",
            "Epoch 18/20\n",
            "469/469 [==============================] - 9s 19ms/step - loss: 0.0171 - accuracy: 0.9956 - val_loss: 0.1271 - val_accuracy: 0.9815\n",
            "Epoch 19/20\n",
            "469/469 [==============================] - 9s 19ms/step - loss: 0.0164 - accuracy: 0.9957 - val_loss: 0.1072 - val_accuracy: 0.9830\n",
            "Epoch 20/20\n",
            "469/469 [==============================] - 9s 19ms/step - loss: 0.0143 - accuracy: 0.9958 - val_loss: 0.1312 - val_accuracy: 0.9805\n"
          ]
        }
      ]
    },
    {
      "cell_type": "code",
      "source": [
        "score = model.evaluate(X_test, y_test, verbose = 1)\n",
        "print('Test loss = ',score[0])\n",
        "print('Test accuracy = ',score[1])"
      ],
      "metadata": {
        "colab": {
          "base_uri": "https://localhost:8080/"
        },
        "id": "tenxGfSposq0",
        "outputId": "5f852cb0-e57d-4f73-fe7b-59a3dcda498a"
      },
      "execution_count": null,
      "outputs": [
        {
          "output_type": "stream",
          "name": "stdout",
          "text": [
            "313/313 [==============================] - 2s 5ms/step - loss: 0.1312 - accuracy: 0.9805\n",
            "Test loss =  0.131225124001503\n",
            "Test accuracy =  0.9804999828338623\n"
          ]
        }
      ]
    },
    {
      "cell_type": "code",
      "source": [
        "plt.plot(history.history['accuracy'])\n",
        "plt.plot(history.history['val_accuracy'])\n",
        "plt.title('Model Accuracy')\n",
        "plt.ylabel('accuracy')\n",
        "plt.xlabel('eposch')\n",
        "plt.legend(['train','validation'], loc = 'upper left')"
      ],
      "metadata": {
        "colab": {
          "base_uri": "https://localhost:8080/",
          "height": 312
        },
        "id": "f-j1wTfMpf7L",
        "outputId": "84019262-c4f0-40e6-8434-7c3d3c25e59c"
      },
      "execution_count": null,
      "outputs": [
        {
          "output_type": "execute_result",
          "data": {
            "text/plain": [
              "<matplotlib.legend.Legend at 0x7faec688fe90>"
            ]
          },
          "metadata": {},
          "execution_count": 11
        },
        {
          "output_type": "display_data",
          "data": {
            "text/plain": [
              "<Figure size 432x288 with 1 Axes>"
            ],
            "image/png": "[encoded data removed]"
          },
          "metadata": {
            "needs_background": "light"
          }
        }
      ]
    },
    {
      "cell_type": "code",
      "source": [
        "import numpy as np\n",
        "p_test = model.predict(X_test).argmax(axis=1)\n",
        "misclassified_idx = np.where(p_test != y_test)[0]\n",
        "i = np.random.choice(misclassified_idx)\n",
        "# plt.imshow(X_test[i], cmap= 'gray')\n",
        "plt.title(\"True label: %s Predicted: %s\" % (y_test[i], p_test[i]));"
      ],
      "metadata": {
        "colab": {
          "base_uri": "https://localhost:8080/",
          "height": 316
        },
        "id": "JPDx4fUCpiQL",
        "outputId": "45e2ef63-233b-4b67-c9f1-cc8aabbccc49"
      },
      "execution_count": null,
      "outputs": [
        {
          "output_type": "stream",
          "name": "stderr",
          "text": [
            "/usr/local/lib/python3.7/dist-packages/ipykernel_launcher.py:3: DeprecationWarning: elementwise comparison failed; this will raise an error in the future.\n",
            "  This is separate from the ipykernel package so we can avoid doing imports until\n"
          ]
        },
        {
          "output_type": "display_data",
          "data": {
            "text/plain": [
              "<Figure size 432x288 with 1 Axes>"
            ],
            "image/png": "[encoded data removed]"
          },
          "metadata": {
            "needs_background": "light"
          }
        }
      ]
    },
    {
      "cell_type": "code",
      "source": [
        "from google.colab import drive\n",
        "drive.mount('/content/drive') \n",
        "!wget -nc https://raw.githubusercontent.com/brpy/colab-pdf/master/colab_pdf.py\n",
        "from colab_pdf import colab_pdf\n",
        "colab_pdf('ANN-Mnist-19146241.ipynb')"
      ],
      "metadata": {
        "colab": {
          "base_uri": "https://localhost:8080/",
          "height": 573
        },
        "id": "Ehkr3Gwopk7H",
        "outputId": "8972f02b-4a0e-4715-9a9f-f09565d4945e"
      },
      "execution_count": null,
      "outputs": [
        {
          "output_type": "stream",
          "name": "stdout",
          "text": [
            "Mounted at /content/drive\n",
            "--2022-05-18 10:21:25--  https://raw.githubusercontent.com/brpy/colab-pdf/master/colab_pdf.py\n",
            "Resolving raw.githubusercontent.com (raw.githubusercontent.com)... 185.199.108.133, 185.199.109.133, 185.199.110.133, ...\n",
            "Connecting to raw.githubusercontent.com (raw.githubusercontent.com)|185.199.108.133|:443... connected.\n",
            "HTTP request sent, awaiting response... 200 OK\n",
            "Length: 1864 (1.8K) [text/plain]\n",
            "Saving to: ‘colab_pdf.py’\n",
            "\n",
            "colab_pdf.py        100%[===================>]   1.82K  --.-KB/s    in 0s      \n",
            "\n",
            "2022-05-18 10:21:25 (29.3 MB/s) - ‘colab_pdf.py’ saved [1864/1864]\n",
            "\n",
            "\n",
            "WARNING: apt does not have a stable CLI interface. Use with caution in scripts.\n",
            "\n",
            "\n",
            "WARNING: apt does not have a stable CLI interface. Use with caution in scripts.\n",
            "\n",
            "Extracting templates from packages: 100%\n",
            "[NbConvertApp] Converting notebook /content/drive/MyDrive/Colab Notebooks/ANN-Mnist-19146241.ipynb to pdf\n",
            "[NbConvertApp] Support files will be in ANN-Mnist-19146241_files/\n",
            "[NbConvertApp] Making directory ./ANN-Mnist-19146241_files\n",
            "[NbConvertApp] Making directory ./ANN-Mnist-19146241_files\n",
            "[NbConvertApp] Making directory ./ANN-Mnist-19146241_files\n",
            "[NbConvertApp] Writing 37402 bytes to ./notebook.tex\n",
            "[NbConvertApp] Building PDF\n",
            "[NbConvertApp] Running xelatex 3 times: ['xelatex', './notebook.tex', '-quiet']\n",
            "[NbConvertApp] Running bibtex 1 time: ['bibtex', './notebook']\n",
            "[NbConvertApp] WARNING | bibtex had problems, most likely because there were no citations\n",
            "[NbConvertApp] PDF successfully created\n",
            "[NbConvertApp] Writing 78285 bytes to /content/drive/My Drive/ANN-Mnist-19146241.pdf\n"
          ]
        },
        {
          "output_type": "display_data",
          "data": {
            "text/plain": [
              "<IPython.core.display.Javascript object>"
            ],
            "application/javascript": [
              "\n",
              "    async function download(id, filename, size) {\n",
              "      if (!google.colab.kernel.accessAllowed) {\n",
              "        return;\n",
              "      }\n",
              "      const div = document.createElement('div');\n",
              "      const label = document.createElement('label');\n",
              "      label.textContent = `Downloading \"${filename}\": `;\n",
              "      div.appendChild(label);\n",
              "      const progress = document.createElement('progress');\n",
              "      progress.max = size;\n",
              "      div.appendChild(progress);\n",
              "      document.body.appendChild(div);\n",
              "\n",
              "      const buffers = [];\n",
              "      let downloaded = 0;\n",
              "\n",
              "      const channel = await google.colab.kernel.comms.open(id);\n",
              "      // Send a message to notify the kernel that we're ready.\n",
              "      channel.send({})\n",
              "\n",
              "      for await (const message of channel.messages) {\n",
              "        // Send a message to notify the kernel that we're ready.\n",
              "        channel.send({})\n",
              "        if (message.buffers) {\n",
              "          for (const buffer of message.buffers) {\n",
              "            buffers.push(buffer);\n",
              "            downloaded += buffer.byteLength;\n",
              "            progress.value = downloaded;\n",
              "          }\n",
              "        }\n",
              "      }\n",
              "      const blob = new Blob(buffers, {type: 'application/binary'});\n",
              "      const a = document.createElement('a');\n",
              "      a.href = window.URL.createObjectURL(blob);\n",
              "      a.download = filename;\n",
              "      div.appendChild(a);\n",
              "      a.click();\n",
              "      div.remove();\n",
              "    }\n",
              "  "
            ]
          },
          "metadata": {}
        },
        {
          "output_type": "display_data",
          "data": {
            "text/plain": [
              "<IPython.core.display.Javascript object>"
            ],
            "application/javascript": [
              "download(\"download_24e22bb0-a116-42ed-8f2b-1ba711690200\", \"ANN-Mnist-19146241.pdf\", 78285)"
            ]
          },
          "metadata": {}
        },
        {
          "output_type": "execute_result",
          "data": {
            "text/plain": [
              "'File ready to be Downloaded and Saved to Drive'"
            ],
            "application/vnd.google.colaboratory.intrinsic+json": {
              "type": "string"
            }
          },
          "metadata": {},
          "execution_count": 14
        }
      ]
    },
    {
      "cell_type": "code",
      "source": [
        ""
      ],
      "metadata": {
        "id": "xEYljmP-r2Lq"
      },
      "execution_count": null,
      "outputs": []
    }
  ]
}